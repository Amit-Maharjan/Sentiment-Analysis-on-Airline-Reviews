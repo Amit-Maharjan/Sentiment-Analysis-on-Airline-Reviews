{
 "cells": [
  {
   "cell_type": "code",
   "execution_count": 1,
   "id": "890f24da-6673-49d7-bf58-589043a35047",
   "metadata": {
    "colab": {
     "base_uri": "https://localhost:8080/"
    },
    "id": "890f24da-6673-49d7-bf58-589043a35047",
    "outputId": "4a6ac7cf-5e67-4a12-b812-e6a019b2623b"
   },
   "outputs": [
    {
     "name": "stderr",
     "output_type": "stream",
     "text": [
      "[nltk_data] Downloading package wordnet to\n",
      "[nltk_data]     /Users/stha_sangam/nltk_data...\n",
      "[nltk_data]   Package wordnet is already up-to-date!\n"
     ]
    },
    {
     "data": {
      "text/plain": [
       "True"
      ]
     },
     "execution_count": 1,
     "metadata": {},
     "output_type": "execute_result"
    }
   ],
   "source": [
    "import re\n",
    "import string\n",
    "import pandas as pd\n",
    "import numpy as np\n",
    "from nltk.corpus import stopwords\n",
    "from nltk.tokenize import word_tokenize, sent_tokenize\n",
    "from nltk.stem import PorterStemmer, WordNetLemmatizer\n",
    "from bs4 import BeautifulSoup\n",
    "from collections import Counter\n",
    "import nltk\n",
    "nltk.download('wordnet')"
   ]
  },
  {
   "cell_type": "code",
   "execution_count": 2,
   "id": "fc15125e-ba02-4e63-8b3d-2444bec53c1e",
   "metadata": {
    "id": "fc15125e-ba02-4e63-8b3d-2444bec53c1e"
   },
   "outputs": [],
   "source": [
    "df = pd.read_csv('Preprocessed Data.csv')"
   ]
  },
  {
   "cell_type": "code",
   "execution_count": 3,
   "id": "e2ba4caa-8336-49e5-b54e-381f8e439bcc",
   "metadata": {
    "colab": {
     "base_uri": "https://localhost:8080/"
    },
    "id": "e2ba4caa-8336-49e5-b54e-381f8e439bcc",
    "outputId": "86eadc4d-23e7-45ca-d69e-712149456f9f"
   },
   "outputs": [
    {
     "data": {
      "text/plain": [
       "(23046, 13)"
      ]
     },
     "execution_count": 3,
     "metadata": {},
     "output_type": "execute_result"
    }
   ],
   "source": [
    "df.shape"
   ]
  },
  {
   "cell_type": "code",
   "execution_count": 4,
   "id": "035f9002-0e7e-4921-9027-2fd3c65be67e",
   "metadata": {
    "colab": {
     "base_uri": "https://localhost:8080/",
     "height": 1000
    },
    "id": "035f9002-0e7e-4921-9027-2fd3c65be67e",
    "outputId": "0ebc9708-cde0-4d18-9029-7433baec8c85"
   },
   "outputs": [
    {
     "data": {
      "text/html": [
       "<div>\n",
       "<style scoped>\n",
       "    .dataframe tbody tr th:only-of-type {\n",
       "        vertical-align: middle;\n",
       "    }\n",
       "\n",
       "    .dataframe tbody tr th {\n",
       "        vertical-align: top;\n",
       "    }\n",
       "\n",
       "    .dataframe thead th {\n",
       "        text-align: right;\n",
       "    }\n",
       "</style>\n",
       "<table border=\"1\" class=\"dataframe\">\n",
       "  <thead>\n",
       "    <tr style=\"text-align: right;\">\n",
       "      <th></th>\n",
       "      <th>Airline Name</th>\n",
       "      <th>Overall_Rating</th>\n",
       "      <th>Review</th>\n",
       "      <th>Seat Type</th>\n",
       "      <th>Seat Comfort</th>\n",
       "      <th>Cabin Staff Service</th>\n",
       "      <th>Food &amp; Beverages</th>\n",
       "      <th>Ground Service</th>\n",
       "      <th>Inflight Entertainment</th>\n",
       "      <th>Wifi &amp; Connectivity</th>\n",
       "      <th>Value For Money</th>\n",
       "      <th>Recommended</th>\n",
       "      <th>preprocessed_review</th>\n",
       "    </tr>\n",
       "  </thead>\n",
       "  <tbody>\n",
       "    <tr>\n",
       "      <th>0</th>\n",
       "      <td>AB Aviation</td>\n",
       "      <td>9.0</td>\n",
       "      <td>Moroni to Moheli. Turned out to be a pretty ...</td>\n",
       "      <td>Economy Class</td>\n",
       "      <td>4.0</td>\n",
       "      <td>5.0</td>\n",
       "      <td>4.0</td>\n",
       "      <td>4.0</td>\n",
       "      <td>NaN</td>\n",
       "      <td>NaN</td>\n",
       "      <td>3.0</td>\n",
       "      <td>yes</td>\n",
       "      <td>moroni to moheli turned out to be a pretty dec...</td>\n",
       "    </tr>\n",
       "    <tr>\n",
       "      <th>1</th>\n",
       "      <td>AB Aviation</td>\n",
       "      <td>1.0</td>\n",
       "      <td>Moroni to Anjouan. It is a very small airline...</td>\n",
       "      <td>Economy Class</td>\n",
       "      <td>2.0</td>\n",
       "      <td>2.0</td>\n",
       "      <td>1.0</td>\n",
       "      <td>1.0</td>\n",
       "      <td>NaN</td>\n",
       "      <td>NaN</td>\n",
       "      <td>2.0</td>\n",
       "      <td>no</td>\n",
       "      <td>moroni to anjouan it is a very small airline m...</td>\n",
       "    </tr>\n",
       "    <tr>\n",
       "      <th>2</th>\n",
       "      <td>AB Aviation</td>\n",
       "      <td>1.0</td>\n",
       "      <td>Anjouan to Dzaoudzi. A very small airline an...</td>\n",
       "      <td>Economy Class</td>\n",
       "      <td>2.0</td>\n",
       "      <td>1.0</td>\n",
       "      <td>1.0</td>\n",
       "      <td>1.0</td>\n",
       "      <td>NaN</td>\n",
       "      <td>NaN</td>\n",
       "      <td>2.0</td>\n",
       "      <td>no</td>\n",
       "      <td>anjouan to dzaoudzi a very small airline and t...</td>\n",
       "    </tr>\n",
       "    <tr>\n",
       "      <th>3</th>\n",
       "      <td>Adria Airways</td>\n",
       "      <td>1.0</td>\n",
       "      <td>Please do a favor yourself and do not fly wi...</td>\n",
       "      <td>Economy Class</td>\n",
       "      <td>1.0</td>\n",
       "      <td>1.0</td>\n",
       "      <td>NaN</td>\n",
       "      <td>1.0</td>\n",
       "      <td>NaN</td>\n",
       "      <td>NaN</td>\n",
       "      <td>1.0</td>\n",
       "      <td>no</td>\n",
       "      <td>please do a favor yourself and do not fly with...</td>\n",
       "    </tr>\n",
       "    <tr>\n",
       "      <th>4</th>\n",
       "      <td>Adria Airways</td>\n",
       "      <td>1.0</td>\n",
       "      <td>Do not book a flight with this airline! My fr...</td>\n",
       "      <td>Economy Class</td>\n",
       "      <td>1.0</td>\n",
       "      <td>1.0</td>\n",
       "      <td>1.0</td>\n",
       "      <td>1.0</td>\n",
       "      <td>1.0</td>\n",
       "      <td>1.0</td>\n",
       "      <td>1.0</td>\n",
       "      <td>no</td>\n",
       "      <td>do not book a flight with this airline my frie...</td>\n",
       "    </tr>\n",
       "    <tr>\n",
       "      <th>5</th>\n",
       "      <td>Adria Airways</td>\n",
       "      <td>1.0</td>\n",
       "      <td>Had very bad experience with rerouted and ca...</td>\n",
       "      <td>Economy Class</td>\n",
       "      <td>1.0</td>\n",
       "      <td>1.0</td>\n",
       "      <td>1.0</td>\n",
       "      <td>1.0</td>\n",
       "      <td>1.0</td>\n",
       "      <td>1.0</td>\n",
       "      <td>1.0</td>\n",
       "      <td>no</td>\n",
       "      <td>had very bad experience with rerouted and canc...</td>\n",
       "    </tr>\n",
       "    <tr>\n",
       "      <th>6</th>\n",
       "      <td>Adria Airways</td>\n",
       "      <td>1.0</td>\n",
       "      <td>Ljubljana to Zürich. Firstly, Ljubljana airp...</td>\n",
       "      <td>Economy Class</td>\n",
       "      <td>1.0</td>\n",
       "      <td>1.0</td>\n",
       "      <td>1.0</td>\n",
       "      <td>1.0</td>\n",
       "      <td>NaN</td>\n",
       "      <td>NaN</td>\n",
       "      <td>1.0</td>\n",
       "      <td>no</td>\n",
       "      <td>ljubljana to zrich firstly ljubljana airport i...</td>\n",
       "    </tr>\n",
       "    <tr>\n",
       "      <th>7</th>\n",
       "      <td>Adria Airways</td>\n",
       "      <td>1.0</td>\n",
       "      <td>First of all, I am not complaining about a s...</td>\n",
       "      <td>Economy Class</td>\n",
       "      <td>1.0</td>\n",
       "      <td>1.0</td>\n",
       "      <td>1.0</td>\n",
       "      <td>1.0</td>\n",
       "      <td>1.0</td>\n",
       "      <td>1.0</td>\n",
       "      <td>1.0</td>\n",
       "      <td>no</td>\n",
       "      <td>first of all i am not complaining about a spec...</td>\n",
       "    </tr>\n",
       "    <tr>\n",
       "      <th>8</th>\n",
       "      <td>Adria Airways</td>\n",
       "      <td>1.0</td>\n",
       "      <td>Worst Airline ever! They combined two flight...</td>\n",
       "      <td>Economy Class</td>\n",
       "      <td>1.0</td>\n",
       "      <td>2.0</td>\n",
       "      <td>1.0</td>\n",
       "      <td>1.0</td>\n",
       "      <td>1.0</td>\n",
       "      <td>1.0</td>\n",
       "      <td>1.0</td>\n",
       "      <td>no</td>\n",
       "      <td>worst airline ever they combined two flight to...</td>\n",
       "    </tr>\n",
       "    <tr>\n",
       "      <th>9</th>\n",
       "      <td>Adria Airways</td>\n",
       "      <td>8.0</td>\n",
       "      <td>Ljubljana to Munich. The homebase airport of ...</td>\n",
       "      <td>Economy Class</td>\n",
       "      <td>4.0</td>\n",
       "      <td>4.0</td>\n",
       "      <td>3.0</td>\n",
       "      <td>5.0</td>\n",
       "      <td>NaN</td>\n",
       "      <td>NaN</td>\n",
       "      <td>5.0</td>\n",
       "      <td>yes</td>\n",
       "      <td>ljubljana to munich the homebase airport of ad...</td>\n",
       "    </tr>\n",
       "  </tbody>\n",
       "</table>\n",
       "</div>"
      ],
      "text/plain": [
       "    Airline Name  Overall_Rating  \\\n",
       "0    AB Aviation             9.0   \n",
       "1    AB Aviation             1.0   \n",
       "2    AB Aviation             1.0   \n",
       "3  Adria Airways             1.0   \n",
       "4  Adria Airways             1.0   \n",
       "5  Adria Airways             1.0   \n",
       "6  Adria Airways             1.0   \n",
       "7  Adria Airways             1.0   \n",
       "8  Adria Airways             1.0   \n",
       "9  Adria Airways             8.0   \n",
       "\n",
       "                                              Review      Seat Type  \\\n",
       "0    Moroni to Moheli. Turned out to be a pretty ...  Economy Class   \n",
       "1   Moroni to Anjouan. It is a very small airline...  Economy Class   \n",
       "2    Anjouan to Dzaoudzi. A very small airline an...  Economy Class   \n",
       "3    Please do a favor yourself and do not fly wi...  Economy Class   \n",
       "4   Do not book a flight with this airline! My fr...  Economy Class   \n",
       "5    Had very bad experience with rerouted and ca...  Economy Class   \n",
       "6    Ljubljana to Zürich. Firstly, Ljubljana airp...  Economy Class   \n",
       "7    First of all, I am not complaining about a s...  Economy Class   \n",
       "8    Worst Airline ever! They combined two flight...  Economy Class   \n",
       "9   Ljubljana to Munich. The homebase airport of ...  Economy Class   \n",
       "\n",
       "   Seat Comfort  Cabin Staff Service  Food & Beverages  Ground Service  \\\n",
       "0           4.0                  5.0               4.0             4.0   \n",
       "1           2.0                  2.0               1.0             1.0   \n",
       "2           2.0                  1.0               1.0             1.0   \n",
       "3           1.0                  1.0               NaN             1.0   \n",
       "4           1.0                  1.0               1.0             1.0   \n",
       "5           1.0                  1.0               1.0             1.0   \n",
       "6           1.0                  1.0               1.0             1.0   \n",
       "7           1.0                  1.0               1.0             1.0   \n",
       "8           1.0                  2.0               1.0             1.0   \n",
       "9           4.0                  4.0               3.0             5.0   \n",
       "\n",
       "   Inflight Entertainment  Wifi & Connectivity  Value For Money Recommended  \\\n",
       "0                     NaN                  NaN              3.0         yes   \n",
       "1                     NaN                  NaN              2.0          no   \n",
       "2                     NaN                  NaN              2.0          no   \n",
       "3                     NaN                  NaN              1.0          no   \n",
       "4                     1.0                  1.0              1.0          no   \n",
       "5                     1.0                  1.0              1.0          no   \n",
       "6                     NaN                  NaN              1.0          no   \n",
       "7                     1.0                  1.0              1.0          no   \n",
       "8                     1.0                  1.0              1.0          no   \n",
       "9                     NaN                  NaN              5.0         yes   \n",
       "\n",
       "                                 preprocessed_review  \n",
       "0  moroni to moheli turned out to be a pretty dec...  \n",
       "1  moroni to anjouan it is a very small airline m...  \n",
       "2  anjouan to dzaoudzi a very small airline and t...  \n",
       "3  please do a favor yourself and do not fly with...  \n",
       "4  do not book a flight with this airline my frie...  \n",
       "5  had very bad experience with rerouted and canc...  \n",
       "6  ljubljana to zrich firstly ljubljana airport i...  \n",
       "7  first of all i am not complaining about a spec...  \n",
       "8  worst airline ever they combined two flight to...  \n",
       "9  ljubljana to munich the homebase airport of ad...  "
      ]
     },
     "execution_count": 4,
     "metadata": {},
     "output_type": "execute_result"
    }
   ],
   "source": [
    "df.head(10)"
   ]
  },
  {
   "cell_type": "code",
   "execution_count": 5,
   "id": "7dc9b396-9ba4-4597-b354-577e15ceb234",
   "metadata": {
    "colab": {
     "base_uri": "https://localhost:8080/"
    },
    "id": "7dc9b396-9ba4-4597-b354-577e15ceb234",
    "outputId": "520c2a52-41ac-484c-a220-3c5709ae4c13"
   },
   "outputs": [
    {
     "name": "stdout",
     "output_type": "stream",
     "text": [
      "<class 'pandas.core.frame.DataFrame'>\n",
      "RangeIndex: 23046 entries, 0 to 23045\n",
      "Data columns (total 13 columns):\n",
      " #   Column                  Non-Null Count  Dtype  \n",
      "---  ------                  --------------  -----  \n",
      " 0   Airline Name            23046 non-null  object \n",
      " 1   Overall_Rating          22298 non-null  float64\n",
      " 2   Review                  23046 non-null  object \n",
      " 3   Seat Type               22058 non-null  object \n",
      " 4   Seat Comfort            19004 non-null  float64\n",
      " 5   Cabin Staff Service     18899 non-null  float64\n",
      " 6   Food & Beverages        14493 non-null  float64\n",
      " 7   Ground Service          18366 non-null  float64\n",
      " 8   Inflight Entertainment  10824 non-null  float64\n",
      " 9   Wifi & Connectivity     5917 non-null   float64\n",
      " 10  Value For Money         22088 non-null  float64\n",
      " 11  Recommended             23046 non-null  object \n",
      " 12  preprocessed_review     23046 non-null  object \n",
      "dtypes: float64(8), object(5)\n",
      "memory usage: 2.3+ MB\n"
     ]
    }
   ],
   "source": [
    "df.info()"
   ]
  },
  {
   "cell_type": "markdown",
   "id": "16660239",
   "metadata": {
    "id": "16660239"
   },
   "source": [
    "**DistilBERT**"
   ]
  },
  {
   "cell_type": "code",
   "execution_count": 6,
   "id": "1a998d69",
   "metadata": {
    "id": "1a998d69"
   },
   "outputs": [],
   "source": [
    "import torch\n",
    "from transformers import DistilBertTokenizer, DistilBertForSequenceClassification\n",
    "from transformers import Trainer, TrainingArguments\n",
    "from sklearn.model_selection import train_test_split\n",
    "from sklearn.metrics import accuracy_score, precision_recall_fscore_support"
   ]
  },
  {
   "cell_type": "code",
   "execution_count": 7,
   "id": "e515a879",
   "metadata": {
    "id": "e515a879"
   },
   "outputs": [],
   "source": [
    "# Renaming columns\n",
    "data = df.rename(columns={\"preprocessed_review\": \"text\", \"Recommended\": \"label\"})\n",
    "\n",
    "# Encoding the labels (assuming \"positive\" and \"negative\")\n",
    "data['label'] = data['label'].map({\"yes\": 1, \"no\": 0})"
   ]
  },
  {
   "cell_type": "code",
   "execution_count": 8,
   "id": "YaQLHR3D21IT",
   "metadata": {
    "colab": {
     "base_uri": "https://localhost:8080/",
     "height": 1000
    },
    "id": "YaQLHR3D21IT",
    "outputId": "d90a033a-370b-4aad-a052-1a1c36ee1584"
   },
   "outputs": [
    {
     "data": {
      "text/html": [
       "<div>\n",
       "<style scoped>\n",
       "    .dataframe tbody tr th:only-of-type {\n",
       "        vertical-align: middle;\n",
       "    }\n",
       "\n",
       "    .dataframe tbody tr th {\n",
       "        vertical-align: top;\n",
       "    }\n",
       "\n",
       "    .dataframe thead th {\n",
       "        text-align: right;\n",
       "    }\n",
       "</style>\n",
       "<table border=\"1\" class=\"dataframe\">\n",
       "  <thead>\n",
       "    <tr style=\"text-align: right;\">\n",
       "      <th></th>\n",
       "      <th>Airline Name</th>\n",
       "      <th>Overall_Rating</th>\n",
       "      <th>Review</th>\n",
       "      <th>Seat Type</th>\n",
       "      <th>Seat Comfort</th>\n",
       "      <th>Cabin Staff Service</th>\n",
       "      <th>Food &amp; Beverages</th>\n",
       "      <th>Ground Service</th>\n",
       "      <th>Inflight Entertainment</th>\n",
       "      <th>Wifi &amp; Connectivity</th>\n",
       "      <th>Value For Money</th>\n",
       "      <th>label</th>\n",
       "      <th>text</th>\n",
       "    </tr>\n",
       "  </thead>\n",
       "  <tbody>\n",
       "    <tr>\n",
       "      <th>0</th>\n",
       "      <td>AB Aviation</td>\n",
       "      <td>9.0</td>\n",
       "      <td>Moroni to Moheli. Turned out to be a pretty ...</td>\n",
       "      <td>Economy Class</td>\n",
       "      <td>4.0</td>\n",
       "      <td>5.0</td>\n",
       "      <td>4.0</td>\n",
       "      <td>4.0</td>\n",
       "      <td>NaN</td>\n",
       "      <td>NaN</td>\n",
       "      <td>3.0</td>\n",
       "      <td>1</td>\n",
       "      <td>moroni to moheli turned out to be a pretty dec...</td>\n",
       "    </tr>\n",
       "    <tr>\n",
       "      <th>1</th>\n",
       "      <td>AB Aviation</td>\n",
       "      <td>1.0</td>\n",
       "      <td>Moroni to Anjouan. It is a very small airline...</td>\n",
       "      <td>Economy Class</td>\n",
       "      <td>2.0</td>\n",
       "      <td>2.0</td>\n",
       "      <td>1.0</td>\n",
       "      <td>1.0</td>\n",
       "      <td>NaN</td>\n",
       "      <td>NaN</td>\n",
       "      <td>2.0</td>\n",
       "      <td>0</td>\n",
       "      <td>moroni to anjouan it is a very small airline m...</td>\n",
       "    </tr>\n",
       "    <tr>\n",
       "      <th>2</th>\n",
       "      <td>AB Aviation</td>\n",
       "      <td>1.0</td>\n",
       "      <td>Anjouan to Dzaoudzi. A very small airline an...</td>\n",
       "      <td>Economy Class</td>\n",
       "      <td>2.0</td>\n",
       "      <td>1.0</td>\n",
       "      <td>1.0</td>\n",
       "      <td>1.0</td>\n",
       "      <td>NaN</td>\n",
       "      <td>NaN</td>\n",
       "      <td>2.0</td>\n",
       "      <td>0</td>\n",
       "      <td>anjouan to dzaoudzi a very small airline and t...</td>\n",
       "    </tr>\n",
       "    <tr>\n",
       "      <th>3</th>\n",
       "      <td>Adria Airways</td>\n",
       "      <td>1.0</td>\n",
       "      <td>Please do a favor yourself and do not fly wi...</td>\n",
       "      <td>Economy Class</td>\n",
       "      <td>1.0</td>\n",
       "      <td>1.0</td>\n",
       "      <td>NaN</td>\n",
       "      <td>1.0</td>\n",
       "      <td>NaN</td>\n",
       "      <td>NaN</td>\n",
       "      <td>1.0</td>\n",
       "      <td>0</td>\n",
       "      <td>please do a favor yourself and do not fly with...</td>\n",
       "    </tr>\n",
       "    <tr>\n",
       "      <th>4</th>\n",
       "      <td>Adria Airways</td>\n",
       "      <td>1.0</td>\n",
       "      <td>Do not book a flight with this airline! My fr...</td>\n",
       "      <td>Economy Class</td>\n",
       "      <td>1.0</td>\n",
       "      <td>1.0</td>\n",
       "      <td>1.0</td>\n",
       "      <td>1.0</td>\n",
       "      <td>1.0</td>\n",
       "      <td>1.0</td>\n",
       "      <td>1.0</td>\n",
       "      <td>0</td>\n",
       "      <td>do not book a flight with this airline my frie...</td>\n",
       "    </tr>\n",
       "    <tr>\n",
       "      <th>...</th>\n",
       "      <td>...</td>\n",
       "      <td>...</td>\n",
       "      <td>...</td>\n",
       "      <td>...</td>\n",
       "      <td>...</td>\n",
       "      <td>...</td>\n",
       "      <td>...</td>\n",
       "      <td>...</td>\n",
       "      <td>...</td>\n",
       "      <td>...</td>\n",
       "      <td>...</td>\n",
       "      <td>...</td>\n",
       "      <td>...</td>\n",
       "    </tr>\n",
       "    <tr>\n",
       "      <th>23041</th>\n",
       "      <td>ZIPAIR</td>\n",
       "      <td>1.0</td>\n",
       "      <td>Bangkok to Tokyo. I’ve flown many low cost ai...</td>\n",
       "      <td>Economy Class</td>\n",
       "      <td>2.0</td>\n",
       "      <td>1.0</td>\n",
       "      <td>NaN</td>\n",
       "      <td>1.0</td>\n",
       "      <td>1.0</td>\n",
       "      <td>1.0</td>\n",
       "      <td>1.0</td>\n",
       "      <td>0</td>\n",
       "      <td>bangkok to tokyo ive flown many low cost airli...</td>\n",
       "    </tr>\n",
       "    <tr>\n",
       "      <th>23042</th>\n",
       "      <td>ZIPAIR</td>\n",
       "      <td>1.0</td>\n",
       "      <td>Avoid at all costs. I booked flights to go f...</td>\n",
       "      <td>Economy Class</td>\n",
       "      <td>NaN</td>\n",
       "      <td>NaN</td>\n",
       "      <td>NaN</td>\n",
       "      <td>NaN</td>\n",
       "      <td>NaN</td>\n",
       "      <td>NaN</td>\n",
       "      <td>1.0</td>\n",
       "      <td>0</td>\n",
       "      <td>avoid at all cost i booked flight to go from s...</td>\n",
       "    </tr>\n",
       "    <tr>\n",
       "      <th>23043</th>\n",
       "      <td>ZIPAIR</td>\n",
       "      <td>3.0</td>\n",
       "      <td>Flight was leaving at 23.15 and after an hou...</td>\n",
       "      <td>Economy Class</td>\n",
       "      <td>2.0</td>\n",
       "      <td>4.0</td>\n",
       "      <td>2.0</td>\n",
       "      <td>1.0</td>\n",
       "      <td>NaN</td>\n",
       "      <td>NaN</td>\n",
       "      <td>2.0</td>\n",
       "      <td>0</td>\n",
       "      <td>flight wa leaving at and after an hour and a h...</td>\n",
       "    </tr>\n",
       "    <tr>\n",
       "      <th>23044</th>\n",
       "      <td>ZIPAIR</td>\n",
       "      <td>6.0</td>\n",
       "      <td>Zipair is JAL’s budget airline. They don’t ha...</td>\n",
       "      <td>Business Class</td>\n",
       "      <td>3.0</td>\n",
       "      <td>4.0</td>\n",
       "      <td>3.0</td>\n",
       "      <td>1.0</td>\n",
       "      <td>2.0</td>\n",
       "      <td>5.0</td>\n",
       "      <td>5.0</td>\n",
       "      <td>1</td>\n",
       "      <td>zipair is jals budget airline they dont have c...</td>\n",
       "    </tr>\n",
       "    <tr>\n",
       "      <th>23045</th>\n",
       "      <td>ZIPAIR</td>\n",
       "      <td>1.0</td>\n",
       "      <td>They lied about connection in Narita and we ...</td>\n",
       "      <td>Economy Class</td>\n",
       "      <td>NaN</td>\n",
       "      <td>NaN</td>\n",
       "      <td>NaN</td>\n",
       "      <td>1.0</td>\n",
       "      <td>NaN</td>\n",
       "      <td>NaN</td>\n",
       "      <td>1.0</td>\n",
       "      <td>0</td>\n",
       "      <td>they lied about connection in narita and we lo...</td>\n",
       "    </tr>\n",
       "  </tbody>\n",
       "</table>\n",
       "<p>23046 rows × 13 columns</p>\n",
       "</div>"
      ],
      "text/plain": [
       "        Airline Name  Overall_Rating  \\\n",
       "0        AB Aviation             9.0   \n",
       "1        AB Aviation             1.0   \n",
       "2        AB Aviation             1.0   \n",
       "3      Adria Airways             1.0   \n",
       "4      Adria Airways             1.0   \n",
       "...              ...             ...   \n",
       "23041         ZIPAIR             1.0   \n",
       "23042         ZIPAIR             1.0   \n",
       "23043         ZIPAIR             3.0   \n",
       "23044         ZIPAIR             6.0   \n",
       "23045         ZIPAIR             1.0   \n",
       "\n",
       "                                                  Review       Seat Type  \\\n",
       "0        Moroni to Moheli. Turned out to be a pretty ...   Economy Class   \n",
       "1       Moroni to Anjouan. It is a very small airline...   Economy Class   \n",
       "2        Anjouan to Dzaoudzi. A very small airline an...   Economy Class   \n",
       "3        Please do a favor yourself and do not fly wi...   Economy Class   \n",
       "4       Do not book a flight with this airline! My fr...   Economy Class   \n",
       "...                                                  ...             ...   \n",
       "23041   Bangkok to Tokyo. I’ve flown many low cost ai...   Economy Class   \n",
       "23042    Avoid at all costs. I booked flights to go f...   Economy Class   \n",
       "23043    Flight was leaving at 23.15 and after an hou...   Economy Class   \n",
       "23044   Zipair is JAL’s budget airline. They don’t ha...  Business Class   \n",
       "23045    They lied about connection in Narita and we ...   Economy Class   \n",
       "\n",
       "       Seat Comfort  Cabin Staff Service  Food & Beverages  Ground Service  \\\n",
       "0               4.0                  5.0               4.0             4.0   \n",
       "1               2.0                  2.0               1.0             1.0   \n",
       "2               2.0                  1.0               1.0             1.0   \n",
       "3               1.0                  1.0               NaN             1.0   \n",
       "4               1.0                  1.0               1.0             1.0   \n",
       "...             ...                  ...               ...             ...   \n",
       "23041           2.0                  1.0               NaN             1.0   \n",
       "23042           NaN                  NaN               NaN             NaN   \n",
       "23043           2.0                  4.0               2.0             1.0   \n",
       "23044           3.0                  4.0               3.0             1.0   \n",
       "23045           NaN                  NaN               NaN             1.0   \n",
       "\n",
       "       Inflight Entertainment  Wifi & Connectivity  Value For Money  label  \\\n",
       "0                         NaN                  NaN              3.0      1   \n",
       "1                         NaN                  NaN              2.0      0   \n",
       "2                         NaN                  NaN              2.0      0   \n",
       "3                         NaN                  NaN              1.0      0   \n",
       "4                         1.0                  1.0              1.0      0   \n",
       "...                       ...                  ...              ...    ...   \n",
       "23041                     1.0                  1.0              1.0      0   \n",
       "23042                     NaN                  NaN              1.0      0   \n",
       "23043                     NaN                  NaN              2.0      0   \n",
       "23044                     2.0                  5.0              5.0      1   \n",
       "23045                     NaN                  NaN              1.0      0   \n",
       "\n",
       "                                                    text  \n",
       "0      moroni to moheli turned out to be a pretty dec...  \n",
       "1      moroni to anjouan it is a very small airline m...  \n",
       "2      anjouan to dzaoudzi a very small airline and t...  \n",
       "3      please do a favor yourself and do not fly with...  \n",
       "4      do not book a flight with this airline my frie...  \n",
       "...                                                  ...  \n",
       "23041  bangkok to tokyo ive flown many low cost airli...  \n",
       "23042  avoid at all cost i booked flight to go from s...  \n",
       "23043  flight wa leaving at and after an hour and a h...  \n",
       "23044  zipair is jals budget airline they dont have c...  \n",
       "23045  they lied about connection in narita and we lo...  \n",
       "\n",
       "[23046 rows x 13 columns]"
      ]
     },
     "execution_count": 8,
     "metadata": {},
     "output_type": "execute_result"
    }
   ],
   "source": [
    "data"
   ]
  },
  {
   "cell_type": "code",
   "execution_count": 9,
   "id": "Q6voilyK29iF",
   "metadata": {
    "id": "Q6voilyK29iF"
   },
   "outputs": [],
   "source": [
    "from sklearn.model_selection import train_test_split\n",
    "train_texts, val_texts, train_labels, val_labels = train_test_split(data['text'], data['label'], test_size=0.2, random_state=42)"
   ]
  },
  {
   "cell_type": "code",
   "execution_count": 10,
   "id": "iPUmtkhr3ITb",
   "metadata": {
    "colab": {
     "base_uri": "https://localhost:8080/"
    },
    "id": "iPUmtkhr3ITb",
    "outputId": "9cbf6fdf-55fe-4987-9a12-26266683f3f4"
   },
   "outputs": [
    {
     "name": "stderr",
     "output_type": "stream",
     "text": [
      "/Library/Frameworks/Python.framework/Versions/3.12/lib/python3.12/site-packages/huggingface_hub/file_download.py:1142: FutureWarning: `resume_download` is deprecated and will be removed in version 1.0.0. Downloads always resume when possible. If you want to force a new download, use `force_download=True`.\n",
      "  warnings.warn(\n"
     ]
    }
   ],
   "source": [
    "from transformers import DistilBertTokenizer\n",
    "\n",
    "tokenizer = DistilBertTokenizer.from_pretrained('distilbert-base-uncased')\n",
    "\n",
    "train_encodings = tokenizer(list(train_texts), truncation=True, padding=True)\n",
    "val_encodings = tokenizer(list(val_texts), truncation=True, padding=True)"
   ]
  },
  {
   "cell_type": "code",
   "execution_count": 11,
   "id": "iaz9pIa44EVN",
   "metadata": {
    "id": "iaz9pIa44EVN"
   },
   "outputs": [],
   "source": [
    "import torch\n",
    "\n",
    "class SentimentDataset(torch.utils.data.Dataset):\n",
    "    def __init__(self, encodings, labels):\n",
    "        self.encodings = encodings\n",
    "        self.labels = labels\n",
    "\n",
    "    def __getitem__(self, idx):\n",
    "        item = {key: torch.tensor(val[idx]) for key, val in self.encodings.items()}\n",
    "        item['labels'] = torch.tensor(self.labels[idx])\n",
    "        return item\n",
    "\n",
    "    def __len__(self):\n",
    "        return len(self.labels)\n",
    "\n",
    "train_dataset = SentimentDataset(train_encodings, list(train_labels))\n",
    "val_dataset = SentimentDataset(val_encodings, list(val_labels))"
   ]
  },
  {
   "cell_type": "code",
   "execution_count": 12,
   "id": "CO4zyrqv4ZoF",
   "metadata": {
    "colab": {
     "base_uri": "https://localhost:8080/",
     "height": 140,
     "referenced_widgets": [
      "ec6ec20ed77147708d3f0578b2523ec2",
      "e502c35cb6b543ebb8d7e3381b6e2a37",
      "65c610e42f274b8b83b74d15f767eaf6",
      "4af6fcaf98c143eca9ae56cc8474045b",
      "9eabf1d597e74e999f4661d2ef0f5d73",
      "95dd6ba4bf4a4683ba89c1eba260948e",
      "a25f5207f7c94070b341a2982ed6e059",
      "704d509f4c5043ccbcbef5e50b88b165",
      "a08fd9bb2e7b4b528cf8e03c447a1999",
      "60a9bd119aa846abb1c0ac96392cc206",
      "9824933cde96498198319825c3840005"
     ]
    },
    "id": "CO4zyrqv4ZoF",
    "outputId": "904324b9-d6c2-4136-ecfd-92fa43809836"
   },
   "outputs": [
    {
     "name": "stderr",
     "output_type": "stream",
     "text": [
      "Some weights of DistilBertForSequenceClassification were not initialized from the model checkpoint at distilbert-base-uncased and are newly initialized: ['classifier.bias', 'classifier.weight', 'pre_classifier.bias', 'pre_classifier.weight']\n",
      "You should probably TRAIN this model on a down-stream task to be able to use it for predictions and inference.\n",
      "/Library/Frameworks/Python.framework/Versions/3.12/lib/python3.12/site-packages/transformers/optimization.py:457: FutureWarning: This implementation of AdamW is deprecated and will be removed in a future version. Use the PyTorch implementation torch.optim.AdamW instead, or set `no_deprecation_warning=True` to disable this warning\n",
      "  warnings.warn(\n"
     ]
    },
    {
     "data": {
      "application/vnd.jupyter.widget-view+json": {
       "model_id": "68e8bd1cf7184330a20cd050ad448820",
       "version_major": 2,
       "version_minor": 0
      },
      "text/plain": [
       "  0%|          | 0/1153 [00:00<?, ?it/s]"
      ]
     },
     "metadata": {},
     "output_type": "display_data"
    },
    {
     "data": {
      "application/vnd.jupyter.widget-view+json": {
       "model_id": "723e3cb7ec5e4668b21be3e3cd6a24f5",
       "version_major": 2,
       "version_minor": 0
      },
      "text/plain": [
       "  0%|          | 0/1153 [00:00<?, ?it/s]"
      ]
     },
     "metadata": {},
     "output_type": "display_data"
    },
    {
     "data": {
      "application/vnd.jupyter.widget-view+json": {
       "model_id": "45067736e26447f6920f1dfe88706599",
       "version_major": 2,
       "version_minor": 0
      },
      "text/plain": [
       "  0%|          | 0/1153 [00:00<?, ?it/s]"
      ]
     },
     "metadata": {},
     "output_type": "display_data"
    },
    {
     "data": {
      "text/plain": [
       "DistilBertForSequenceClassification(\n",
       "  (distilbert): DistilBertModel(\n",
       "    (embeddings): Embeddings(\n",
       "      (word_embeddings): Embedding(30522, 768, padding_idx=0)\n",
       "      (position_embeddings): Embedding(512, 768)\n",
       "      (LayerNorm): LayerNorm((768,), eps=1e-12, elementwise_affine=True)\n",
       "      (dropout): Dropout(p=0.1, inplace=False)\n",
       "    )\n",
       "    (transformer): Transformer(\n",
       "      (layer): ModuleList(\n",
       "        (0-5): 6 x TransformerBlock(\n",
       "          (attention): MultiHeadSelfAttention(\n",
       "            (dropout): Dropout(p=0.1, inplace=False)\n",
       "            (q_lin): Linear(in_features=768, out_features=768, bias=True)\n",
       "            (k_lin): Linear(in_features=768, out_features=768, bias=True)\n",
       "            (v_lin): Linear(in_features=768, out_features=768, bias=True)\n",
       "            (out_lin): Linear(in_features=768, out_features=768, bias=True)\n",
       "          )\n",
       "          (sa_layer_norm): LayerNorm((768,), eps=1e-12, elementwise_affine=True)\n",
       "          (ffn): FFN(\n",
       "            (dropout): Dropout(p=0.1, inplace=False)\n",
       "            (lin1): Linear(in_features=768, out_features=3072, bias=True)\n",
       "            (lin2): Linear(in_features=3072, out_features=768, bias=True)\n",
       "            (activation): GELUActivation()\n",
       "          )\n",
       "          (output_layer_norm): LayerNorm((768,), eps=1e-12, elementwise_affine=True)\n",
       "        )\n",
       "      )\n",
       "    )\n",
       "  )\n",
       "  (pre_classifier): Linear(in_features=768, out_features=768, bias=True)\n",
       "  (classifier): Linear(in_features=768, out_features=2, bias=True)\n",
       "  (dropout): Dropout(p=0.2, inplace=False)\n",
       ")"
      ]
     },
     "execution_count": 12,
     "metadata": {},
     "output_type": "execute_result"
    }
   ],
   "source": [
    "from tqdm.notebook import tqdm\n",
    "from torch.utils.data import DataLoader\n",
    "from transformers import DistilBertForSequenceClassification, AdamW\n",
    "\n",
    "device = torch.device('cuda') if torch.cuda.is_available() else torch.device('cpu')\n",
    "\n",
    "model = DistilBertForSequenceClassification.from_pretrained('distilbert-base-uncased', num_labels=2)\n",
    "model.to(device)\n",
    "model.train()\n",
    "\n",
    "train_loader = DataLoader(train_dataset, batch_size=16, shuffle=True)\n",
    "\n",
    "optim = AdamW(model.parameters(), lr=0.01)\n",
    "\n",
    "for epoch in range(3):\n",
    "    for batch in tqdm(train_loader):\n",
    "        optim.zero_grad()\n",
    "        input_ids = batch['input_ids'].to(device)\n",
    "        attention_mask = batch['attention_mask'].to(device)\n",
    "        labels = batch['labels'].to(device)\n",
    "        outputs = model(input_ids, attention_mask=attention_mask, labels=labels)\n",
    "        loss = outputs[0]\n",
    "        loss.backward()\n",
    "        optim.step()\n",
    "        optim.zero_grad()\n",
    "\n",
    "model.eval()"
   ]
  },
  {
   "cell_type": "code",
   "execution_count": 13,
   "id": "m908E-vTDdrT",
   "metadata": {
    "id": "m908E-vTDdrT"
   },
   "outputs": [
    {
     "name": "stdout",
     "output_type": "stream",
     "text": [
      "Saving model to ./model_save/\n"
     ]
    },
    {
     "data": {
      "text/plain": [
       "('./model_save/tokenizer_config.json',\n",
       " './model_save/special_tokens_map.json',\n",
       " './model_save/vocab.txt',\n",
       " './model_save/added_tokens.json')"
      ]
     },
     "execution_count": 13,
     "metadata": {},
     "output_type": "execute_result"
    }
   ],
   "source": [
    "import os\n",
    "\n",
    "# Saving best-practices: if you use defaults names for the model, you can reload it using from_pretrained()\n",
    "\n",
    "output_dir = './model_save/'\n",
    "\n",
    "# Create output directory if needed\n",
    "if not os.path.exists(output_dir):\n",
    "    os.makedirs(output_dir)\n",
    "\n",
    "print(\"Saving model to %s\" % output_dir)\n",
    "\n",
    "# Save a trained model, configuration and tokenizer using `save_pretrained()`.\n",
    "# They can then be reloaded using `from_pretrained()`\n",
    "model_to_save = model.module if hasattr(model, 'module') else model  # Take care of distributed/parallel training\n",
    "model_to_save.save_pretrained(output_dir)\n",
    "tokenizer.save_pretrained(output_dir)"
   ]
  },
  {
   "cell_type": "code",
   "execution_count": 14,
   "id": "MDGsvq7UFSZu",
   "metadata": {
    "id": "MDGsvq7UFSZu"
   },
   "outputs": [],
   "source": [
    "import torch.nn.functional as F"
   ]
  },
  {
   "cell_type": "code",
   "execution_count": 15,
   "id": "KbVElHUNFbH5",
   "metadata": {
    "id": "KbVElHUNFbH5"
   },
   "outputs": [],
   "source": [
    "val_loader = DataLoader(val_dataset, batch_size=16)"
   ]
  },
  {
   "cell_type": "code",
   "execution_count": 16,
   "id": "Gp-lABmDFkjA",
   "metadata": {
    "id": "Gp-lABmDFkjA"
   },
   "outputs": [],
   "source": [
    "def accuracy(outputs, labels):\n",
    "    _, preds = torch.max(outputs, dim=1)\n",
    "    return torch.tensor(torch.sum(preds == labels).item() / len(preds))"
   ]
  },
  {
   "cell_type": "code",
   "execution_count": 17,
   "id": "xhciOL7XFrr4",
   "metadata": {
    "id": "xhciOL7XFrr4"
   },
   "outputs": [],
   "source": [
    "def validation(validation_dataloader):\n",
    "  with torch.no_grad():\n",
    "    loss_val_list = []\n",
    "    preds_list = []\n",
    "    accuracy_list = []\n",
    "    accuracy_sum = 0\n",
    "    for batch in tqdm(validation_dataloader):\n",
    "      #print(batch.keys())\n",
    "      input_ids = batch['input_ids'].to(device)\n",
    "      attention_mask = batch['attention_mask'].to(device)\n",
    "      labels = batch['labels'].to(device)\n",
    "\n",
    "      outputs = model(input_ids, attention_mask=attention_mask, labels=labels)\n",
    "      loss = outputs[0]\n",
    "      logits = F.softmax(outputs[1], dim=1)   # Taking the softmax of output\n",
    "      _,preds = torch.max(logits, dim=1)      # Taking the predictions of our batch\n",
    "      acc = accuracy(logits,labels)           # Calculating the accuracy of current batch\n",
    "      accuracy_sum += acc                     # Taking sum of all the accuracies of all the batches. This sum will be divided by batch length to get mean accuracy for validation dataset\n",
    "\n",
    "      loss_val_list.append(loss)\n",
    "      preds_list.append(preds)\n",
    "      accuracy_list.append(acc)\n",
    "  mean_accuracy = accuracy_sum / len(validation_dataloader)\n",
    "  return mean_accuracy"
   ]
  },
  {
   "cell_type": "code",
   "execution_count": 18,
   "id": "OS9MZ5MzF3d4",
   "metadata": {
    "id": "OS9MZ5MzF3d4"
   },
   "outputs": [
    {
     "data": {
      "application/vnd.jupyter.widget-view+json": {
       "model_id": "223abc4affe54aa195ad90770bbd160d",
       "version_major": 2,
       "version_minor": 0
      },
      "text/plain": [
       "  0%|          | 0/289 [00:00<?, ?it/s]"
      ]
     },
     "metadata": {},
     "output_type": "display_data"
    },
    {
     "data": {
      "text/plain": [
       "tensor(0.6592)"
      ]
     },
     "execution_count": 18,
     "metadata": {},
     "output_type": "execute_result"
    }
   ],
   "source": [
    "validation(val_loader)"
   ]
  },
  {
   "cell_type": "code",
   "execution_count": 19,
   "id": "06277866",
   "metadata": {},
   "outputs": [],
   "source": [
    "review = ['I had an absolutely terrible experience with this airline. From the start, the check-in process was chaotic, and the staff seemed completely disinterested in helping passengers. The flight itself was delayed by 4 hours, with no proper communication or updates.']"
   ]
  },
  {
   "cell_type": "code",
   "execution_count": 20,
   "id": "886a3750",
   "metadata": {},
   "outputs": [],
   "source": [
    "review_tokenised = tokenizer(review, truncation=True, padding=True)"
   ]
  },
  {
   "cell_type": "code",
   "execution_count": 21,
   "id": "0b380085",
   "metadata": {},
   "outputs": [],
   "source": [
    "review_dataset = SentimentDataset(review_tokenised, [0])"
   ]
  },
  {
   "cell_type": "code",
   "execution_count": 22,
   "id": "50613d33",
   "metadata": {},
   "outputs": [],
   "source": [
    "review_loader = DataLoader(review_dataset, batch_size=1)"
   ]
  },
  {
   "cell_type": "code",
   "execution_count": 23,
   "id": "1432d1a2",
   "metadata": {},
   "outputs": [
    {
     "name": "stderr",
     "output_type": "stream",
     "text": [
      "/var/folders/1z/vmgnbk395vddzwyv6ytnpw240000gn/T/ipykernel_85855/3743453596.py:7: UserWarning: Implicit dimension choice for softmax has been deprecated. Change the call to include dim=X as an argument.\n",
      "  logits = F.softmax(prediction[1])\n"
     ]
    }
   ],
   "source": [
    "with torch.no_grad():\n",
    "  for batch in review_loader : \n",
    "    input_ids = batch['input_ids'].to(device)\n",
    "    attention_mask = batch['attention_mask'].to(device)\n",
    "    labels = batch['labels'].to(device)\n",
    "    prediction = model(input_ids, attention_mask=attention_mask, labels=labels)\n",
    "    logits = F.softmax(prediction[1])"
   ]
  },
  {
   "cell_type": "code",
   "execution_count": 24,
   "id": "49269be2",
   "metadata": {},
   "outputs": [
    {
     "data": {
      "text/plain": [
       "tensor([[0.6510, 0.3490]])"
      ]
     },
     "execution_count": 24,
     "metadata": {},
     "output_type": "execute_result"
    }
   ],
   "source": [
    "logits"
   ]
  },
  {
   "cell_type": "code",
   "execution_count": 25,
   "id": "644d1b2a",
   "metadata": {},
   "outputs": [],
   "source": [
    "_,preds = torch.max(logits, dim=1) "
   ]
  },
  {
   "cell_type": "code",
   "execution_count": 26,
   "id": "a881f1b2",
   "metadata": {},
   "outputs": [
    {
     "data": {
      "text/plain": [
       "0"
      ]
     },
     "execution_count": 26,
     "metadata": {},
     "output_type": "execute_result"
    }
   ],
   "source": [
    "preds.item()"
   ]
  }
 ],
 "metadata": {
  "colab": {
   "provenance": []
  },
  "kernelspec": {
   "display_name": "Python 3 (ipykernel)",
   "language": "python",
   "name": "python3"
  },
  "language_info": {
   "codemirror_mode": {
    "name": "ipython",
    "version": 3
   },
   "file_extension": ".py",
   "mimetype": "text/x-python",
   "name": "python",
   "nbconvert_exporter": "python",
   "pygments_lexer": "ipython3",
   "version": "3.12.5"
  },
  "widgets": {
   "application/vnd.jupyter.widget-state+json": {
    "4af6fcaf98c143eca9ae56cc8474045b": {
     "model_module": "@jupyter-widgets/controls",
     "model_module_version": "1.5.0",
     "model_name": "HTMLModel",
     "state": {
      "_dom_classes": [],
      "_model_module": "@jupyter-widgets/controls",
      "_model_module_version": "1.5.0",
      "_model_name": "HTMLModel",
      "_view_count": null,
      "_view_module": "@jupyter-widgets/controls",
      "_view_module_version": "1.5.0",
      "_view_name": "HTMLView",
      "description": "",
      "description_tooltip": null,
      "layout": "IPY_MODEL_60a9bd119aa846abb1c0ac96392cc206",
      "placeholder": "​",
      "style": "IPY_MODEL_9824933cde96498198319825c3840005",
      "value": " 0/1153 [00:00&lt;?, ?it/s]"
     }
    },
    "60a9bd119aa846abb1c0ac96392cc206": {
     "model_module": "@jupyter-widgets/base",
     "model_module_version": "1.2.0",
     "model_name": "LayoutModel",
     "state": {
      "_model_module": "@jupyter-widgets/base",
      "_model_module_version": "1.2.0",
      "_model_name": "LayoutModel",
      "_view_count": null,
      "_view_module": "@jupyter-widgets/base",
      "_view_module_version": "1.2.0",
      "_view_name": "LayoutView",
      "align_content": null,
      "align_items": null,
      "align_self": null,
      "border": null,
      "bottom": null,
      "display": null,
      "flex": null,
      "flex_flow": null,
      "grid_area": null,
      "grid_auto_columns": null,
      "grid_auto_flow": null,
      "grid_auto_rows": null,
      "grid_column": null,
      "grid_gap": null,
      "grid_row": null,
      "grid_template_areas": null,
      "grid_template_columns": null,
      "grid_template_rows": null,
      "height": null,
      "justify_content": null,
      "justify_items": null,
      "left": null,
      "margin": null,
      "max_height": null,
      "max_width": null,
      "min_height": null,
      "min_width": null,
      "object_fit": null,
      "object_position": null,
      "order": null,
      "overflow": null,
      "overflow_x": null,
      "overflow_y": null,
      "padding": null,
      "right": null,
      "top": null,
      "visibility": null,
      "width": null
     }
    },
    "65c610e42f274b8b83b74d15f767eaf6": {
     "model_module": "@jupyter-widgets/controls",
     "model_module_version": "1.5.0",
     "model_name": "FloatProgressModel",
     "state": {
      "_dom_classes": [],
      "_model_module": "@jupyter-widgets/controls",
      "_model_module_version": "1.5.0",
      "_model_name": "FloatProgressModel",
      "_view_count": null,
      "_view_module": "@jupyter-widgets/controls",
      "_view_module_version": "1.5.0",
      "_view_name": "ProgressView",
      "bar_style": "",
      "description": "",
      "description_tooltip": null,
      "layout": "IPY_MODEL_704d509f4c5043ccbcbef5e50b88b165",
      "max": 1153,
      "min": 0,
      "orientation": "horizontal",
      "style": "IPY_MODEL_a08fd9bb2e7b4b528cf8e03c447a1999",
      "value": 0
     }
    },
    "704d509f4c5043ccbcbef5e50b88b165": {
     "model_module": "@jupyter-widgets/base",
     "model_module_version": "1.2.0",
     "model_name": "LayoutModel",
     "state": {
      "_model_module": "@jupyter-widgets/base",
      "_model_module_version": "1.2.0",
      "_model_name": "LayoutModel",
      "_view_count": null,
      "_view_module": "@jupyter-widgets/base",
      "_view_module_version": "1.2.0",
      "_view_name": "LayoutView",
      "align_content": null,
      "align_items": null,
      "align_self": null,
      "border": null,
      "bottom": null,
      "display": null,
      "flex": null,
      "flex_flow": null,
      "grid_area": null,
      "grid_auto_columns": null,
      "grid_auto_flow": null,
      "grid_auto_rows": null,
      "grid_column": null,
      "grid_gap": null,
      "grid_row": null,
      "grid_template_areas": null,
      "grid_template_columns": null,
      "grid_template_rows": null,
      "height": null,
      "justify_content": null,
      "justify_items": null,
      "left": null,
      "margin": null,
      "max_height": null,
      "max_width": null,
      "min_height": null,
      "min_width": null,
      "object_fit": null,
      "object_position": null,
      "order": null,
      "overflow": null,
      "overflow_x": null,
      "overflow_y": null,
      "padding": null,
      "right": null,
      "top": null,
      "visibility": null,
      "width": null
     }
    },
    "95dd6ba4bf4a4683ba89c1eba260948e": {
     "model_module": "@jupyter-widgets/base",
     "model_module_version": "1.2.0",
     "model_name": "LayoutModel",
     "state": {
      "_model_module": "@jupyter-widgets/base",
      "_model_module_version": "1.2.0",
      "_model_name": "LayoutModel",
      "_view_count": null,
      "_view_module": "@jupyter-widgets/base",
      "_view_module_version": "1.2.0",
      "_view_name": "LayoutView",
      "align_content": null,
      "align_items": null,
      "align_self": null,
      "border": null,
      "bottom": null,
      "display": null,
      "flex": null,
      "flex_flow": null,
      "grid_area": null,
      "grid_auto_columns": null,
      "grid_auto_flow": null,
      "grid_auto_rows": null,
      "grid_column": null,
      "grid_gap": null,
      "grid_row": null,
      "grid_template_areas": null,
      "grid_template_columns": null,
      "grid_template_rows": null,
      "height": null,
      "justify_content": null,
      "justify_items": null,
      "left": null,
      "margin": null,
      "max_height": null,
      "max_width": null,
      "min_height": null,
      "min_width": null,
      "object_fit": null,
      "object_position": null,
      "order": null,
      "overflow": null,
      "overflow_x": null,
      "overflow_y": null,
      "padding": null,
      "right": null,
      "top": null,
      "visibility": null,
      "width": null
     }
    },
    "9824933cde96498198319825c3840005": {
     "model_module": "@jupyter-widgets/controls",
     "model_module_version": "1.5.0",
     "model_name": "DescriptionStyleModel",
     "state": {
      "_model_module": "@jupyter-widgets/controls",
      "_model_module_version": "1.5.0",
      "_model_name": "DescriptionStyleModel",
      "_view_count": null,
      "_view_module": "@jupyter-widgets/base",
      "_view_module_version": "1.2.0",
      "_view_name": "StyleView",
      "description_width": ""
     }
    },
    "9eabf1d597e74e999f4661d2ef0f5d73": {
     "model_module": "@jupyter-widgets/base",
     "model_module_version": "1.2.0",
     "model_name": "LayoutModel",
     "state": {
      "_model_module": "@jupyter-widgets/base",
      "_model_module_version": "1.2.0",
      "_model_name": "LayoutModel",
      "_view_count": null,
      "_view_module": "@jupyter-widgets/base",
      "_view_module_version": "1.2.0",
      "_view_name": "LayoutView",
      "align_content": null,
      "align_items": null,
      "align_self": null,
      "border": null,
      "bottom": null,
      "display": null,
      "flex": null,
      "flex_flow": null,
      "grid_area": null,
      "grid_auto_columns": null,
      "grid_auto_flow": null,
      "grid_auto_rows": null,
      "grid_column": null,
      "grid_gap": null,
      "grid_row": null,
      "grid_template_areas": null,
      "grid_template_columns": null,
      "grid_template_rows": null,
      "height": null,
      "justify_content": null,
      "justify_items": null,
      "left": null,
      "margin": null,
      "max_height": null,
      "max_width": null,
      "min_height": null,
      "min_width": null,
      "object_fit": null,
      "object_position": null,
      "order": null,
      "overflow": null,
      "overflow_x": null,
      "overflow_y": null,
      "padding": null,
      "right": null,
      "top": null,
      "visibility": null,
      "width": null
     }
    },
    "a08fd9bb2e7b4b528cf8e03c447a1999": {
     "model_module": "@jupyter-widgets/controls",
     "model_module_version": "1.5.0",
     "model_name": "ProgressStyleModel",
     "state": {
      "_model_module": "@jupyter-widgets/controls",
      "_model_module_version": "1.5.0",
      "_model_name": "ProgressStyleModel",
      "_view_count": null,
      "_view_module": "@jupyter-widgets/base",
      "_view_module_version": "1.2.0",
      "_view_name": "StyleView",
      "bar_color": null,
      "description_width": ""
     }
    },
    "a25f5207f7c94070b341a2982ed6e059": {
     "model_module": "@jupyter-widgets/controls",
     "model_module_version": "1.5.0",
     "model_name": "DescriptionStyleModel",
     "state": {
      "_model_module": "@jupyter-widgets/controls",
      "_model_module_version": "1.5.0",
      "_model_name": "DescriptionStyleModel",
      "_view_count": null,
      "_view_module": "@jupyter-widgets/base",
      "_view_module_version": "1.2.0",
      "_view_name": "StyleView",
      "description_width": ""
     }
    },
    "e502c35cb6b543ebb8d7e3381b6e2a37": {
     "model_module": "@jupyter-widgets/controls",
     "model_module_version": "1.5.0",
     "model_name": "HTMLModel",
     "state": {
      "_dom_classes": [],
      "_model_module": "@jupyter-widgets/controls",
      "_model_module_version": "1.5.0",
      "_model_name": "HTMLModel",
      "_view_count": null,
      "_view_module": "@jupyter-widgets/controls",
      "_view_module_version": "1.5.0",
      "_view_name": "HTMLView",
      "description": "",
      "description_tooltip": null,
      "layout": "IPY_MODEL_95dd6ba4bf4a4683ba89c1eba260948e",
      "placeholder": "​",
      "style": "IPY_MODEL_a25f5207f7c94070b341a2982ed6e059",
      "value": "  0%"
     }
    },
    "ec6ec20ed77147708d3f0578b2523ec2": {
     "model_module": "@jupyter-widgets/controls",
     "model_module_version": "1.5.0",
     "model_name": "HBoxModel",
     "state": {
      "_dom_classes": [],
      "_model_module": "@jupyter-widgets/controls",
      "_model_module_version": "1.5.0",
      "_model_name": "HBoxModel",
      "_view_count": null,
      "_view_module": "@jupyter-widgets/controls",
      "_view_module_version": "1.5.0",
      "_view_name": "HBoxView",
      "box_style": "",
      "children": [
       "IPY_MODEL_e502c35cb6b543ebb8d7e3381b6e2a37",
       "IPY_MODEL_65c610e42f274b8b83b74d15f767eaf6",
       "IPY_MODEL_4af6fcaf98c143eca9ae56cc8474045b"
      ],
      "layout": "IPY_MODEL_9eabf1d597e74e999f4661d2ef0f5d73"
     }
    }
   }
  }
 },
 "nbformat": 4,
 "nbformat_minor": 5
}
